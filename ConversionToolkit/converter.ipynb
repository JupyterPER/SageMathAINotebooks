{
 "cells": [
  {
   "cell_type": "markdown",
   "id": "9590d4ff-964a-4c91-93bf-d952063eaa33",
   "metadata": {},
   "source": [
    "# Conversion of `.ipynb` files into/from `.txt` files \n",
    "\n",
    "Input `.txt` files should be formated like that:\n",
    "\n",
    "```code\n",
    "@Markdown[1]:\n",
    "# Introduction to SageMath\n",
    "@=================\n",
    "@In[1]:\n",
    "# Basic arithmetic\n",
    "x = 10 * 5\n",
    "y = x + 15\n",
    "@=================\n",
    "@In[2]:\n",
    "# Display results\n",
    "print(f\"x = {x}\")\n",
    "print(f\"y = {y}\")\n",
    "@=================\n",
    "@Markdown[2]:\n",
    "## Working with Lists\n",
    "@=================\n",
    "@In[3]:\n",
    "# Create and manipulate a list\n",
    "numbers = [1, 2, 3, 4, 5]\n",
    "squared = [n^2 for n in numbers]\n",
    "@=================\n",
    "@In[4]:\n",
    "# Show the results\n",
    "print(\"Original:\", numbers)\n",
    "print(\"Squared:\", squared)\n",
    "@=================\n",
    "@Markdown[3]:\n",
    "## Notes\n",
    "- Each section starts with @Markdown[n] or @In[n]\n",
    "- Sections are separated by @=================\n",
    "- Preserve indentation in code blocks\n",
    "@=================\n",
    "```\n",
    "\n",
    "Also, exported `.txt` files will be formatted like the text shown above."
   ]
  },
  {
   "cell_type": "code",
   "execution_count": 5,
   "id": "d4e6dab6-4d67-40a9-9f19-e29bb4ff3c98",
   "metadata": {
    "editable": true,
    "execution": {
     "iopub.execute_input": "2025-03-03T16:33:21.922976Z",
     "iopub.status.busy": "2025-03-03T16:33:21.922109Z",
     "iopub.status.idle": "2025-03-03T16:33:21.928867Z",
     "shell.execute_reply": "2025-03-03T16:33:21.928249Z",
     "shell.execute_reply.started": "2025-03-03T16:33:21.922963Z"
    },
    "slideshow": {
     "slide_type": ""
    },
    "tags": []
   },
   "outputs": [],
   "source": [
    "import os\n",
    "import re\n",
    "import glob\n",
    "import json"
   ]
  },
  {
   "cell_type": "code",
   "execution_count": 6,
   "id": "ed1e3cad-8c92-4a58-ae9d-aedb48211557",
   "metadata": {
    "editable": true,
    "execution": {
     "iopub.execute_input": "2025-03-03T16:33:22.152222Z",
     "iopub.status.busy": "2025-03-03T16:33:22.151963Z",
     "iopub.status.idle": "2025-03-03T16:33:22.162288Z",
     "shell.execute_reply": "2025-03-03T16:33:22.161882Z",
     "shell.execute_reply.started": "2025-03-03T16:33:22.152209Z"
    },
    "slideshow": {
     "slide_type": ""
    },
    "tags": []
   },
   "outputs": [],
   "source": [
    "def parse_txt_text(lines):\n",
    "    \"\"\"\n",
    "    Parses lines of the custom text format into a list of notebook cells.\n",
    "    \n",
    "    Returns a list of cell dictionaries suitable for inclusion in the\n",
    "    nbformat=4 style Jupyter notebook JSON.\n",
    "    \"\"\"\n",
    "    cells = []\n",
    "    current_type = None   # 'markdown' or 'code'\n",
    "    current_source = []\n",
    "    \n",
    "    # Helper to finalize the current cell (if any) and append to `cells`.\n",
    "    def finalize_cell(cell_type, source_lines):\n",
    "        if cell_type is None:\n",
    "            return\n",
    "        if cell_type == 'markdown':\n",
    "            new_cell = {\n",
    "                \"cell_type\": \"markdown\",\n",
    "                \"metadata\": {},\n",
    "                \"source\": source_lines\n",
    "            }\n",
    "        else:  # code\n",
    "            new_cell = {\n",
    "                \"cell_type\": \"code\",\n",
    "                \"metadata\": {},\n",
    "                \"execution_count\": None,\n",
    "                \"outputs\": [],\n",
    "                \"source\": source_lines\n",
    "            }\n",
    "        cells.append(new_cell)\n",
    "\n",
    "    # A small regex to detect lines like \"@Markdown[1]:\" or \"@In[2]:\"\n",
    "    cell_header_pattern = re.compile(r'^@(Markdown|In)\\[\\d+\\]:\\s*$')\n",
    "\n",
    "    for line in lines:\n",
    "        # Check if line indicates the start of a new cell\n",
    "        if cell_header_pattern.match(line.strip()):\n",
    "            # If we were in the middle of a cell, finalize it\n",
    "            finalize_cell(current_type, current_source)\n",
    "            # Reset and prepare for a new cell\n",
    "            if line.strip().startswith('@Markdown'):\n",
    "                current_type = 'markdown'\n",
    "            else:\n",
    "                current_type = 'code'\n",
    "            current_source = []\n",
    "        elif line.strip() == '@=================':\n",
    "            # End of the current cell\n",
    "            finalize_cell(current_type, current_source)\n",
    "            current_type = None\n",
    "            current_source = []\n",
    "        else:\n",
    "            # If we're inside a cell, store the line as part of the source\n",
    "            if current_type is not None:\n",
    "                # Keep the original line (including indentation)\n",
    "                current_source.append(line)\n",
    "            else:\n",
    "                # We are outside any recognized cell, so ignore or handle as needed\n",
    "                pass\n",
    "\n",
    "    # If something remains in current_source, finalize it\n",
    "    # (this covers the case where the file doesn't end with \"@=================\")\n",
    "    finalize_cell(current_type, current_source)\n",
    "\n",
    "    return cells\n",
    "\n",
    "def build_notebook(cells):\n",
    "    \"\"\"\n",
    "    Builds the full notebook structure (a dict) given a list of cell dicts.\n",
    "    \"\"\"\n",
    "    notebook = {\n",
    "        \"nbformat\": 4,\n",
    "        \"nbformat_minor\": 4,\n",
    "        \"metadata\": {\n",
    "            \"kernelspec\": {\n",
    "                \"display_name\": \"SageMath\",\n",
    "                \"language\": \"sage\",\n",
    "                \"name\": \"sagemath\"\n",
    "            },\n",
    "            \"language_info\": {\n",
    "                \"file_extension\": \".sage\",\n",
    "                \"mimetype\": \"text/x-sage\",\n",
    "                \"name\": \"sage\"\n",
    "            }\n",
    "        },\n",
    "        \"cells\": cells\n",
    "    }\n",
    "    return notebook\n",
    "\n",
    "def convert_ipynb_to_txt(notebook_path, output_path):\n",
    "    with open(notebook_path, 'r', encoding='utf-8') as file:\n",
    "        notebook = json.load(file)\n",
    "\n",
    "    converted_content = []\n",
    "    markdown_count = 1\n",
    "    code_count = 1\n",
    "    last_cell_index = len(notebook['cells']) - 1\n",
    "\n",
    "    for i, cell in enumerate(notebook['cells']):\n",
    "        if cell['cell_type'] == 'markdown':\n",
    "            converted_content.append(f\"@Markdown[{markdown_count}]:\")\n",
    "            converted_content.append(''.join(cell['source']))\n",
    "            if i != last_cell_index:\n",
    "                converted_content.append('@=================')\n",
    "            markdown_count += 1\n",
    "        elif cell['cell_type'] == 'code':\n",
    "            converted_content.append(f\"@In[{code_count}]:\")\n",
    "            converted_content.append(''.join(cell['source']))\n",
    "            if i != last_cell_index:\n",
    "                converted_content.append('@=================')\n",
    "            code_count += 1\n",
    "\n",
    "    with open(output_path, 'w', newline='\\n', encoding='utf-8') as file:\n",
    "        file.write('\\n'.join(converted_content))\n",
    "\n",
    "\n",
    "def multiconvert_ipynb_to_txt(folder_path='', output_folder=''):\n",
    "    # Ak nie je zadaná cesta k priečinku, použije sa aktuálny adresár\n",
    "    if not folder_path:\n",
    "        folder_path = '.'\n",
    "    \n",
    "    # Ak nie je zadaná výstupná cesta, vytvorí sa v aktuálnom adresári\n",
    "    if not output_folder:\n",
    "        output_folder = '.'\n",
    "    \n",
    "    # Ensure the output folder exists\n",
    "    if not os.path.exists(output_folder):\n",
    "        os.makedirs(output_folder)\n",
    "\n",
    "    # Scan for Jupyter notebooks\n",
    "    notebook_files = glob.glob(os.path.join(folder_path, '*.ipynb'))\n",
    "\n",
    "    for notebook_path in notebook_files:\n",
    "        # Define the output path for the converted notebook\n",
    "        notebook_name = os.path.basename(notebook_path).replace('.ipynb', '.txt')\n",
    "        output_path = os.path.join(output_folder, notebook_name)\n",
    "\n",
    "        # Convert the notebook\n",
    "        convert_ipynb_to_txt(notebook_path, output_path)\n",
    "        print(f\"Converted {notebook_path} to {output_path}\")\n",
    "\n",
    "def convert_txt_to_ipynb(input_file, output_file):\n",
    "    # Read all lines from input\n",
    "    with open(input_file, 'r', encoding='utf-8') as f:\n",
    "        lines = f.readlines()\n",
    "\n",
    "    # Parse into notebook cells\n",
    "    cells = parse_txt_text(lines)\n",
    "\n",
    "    # Build the final notebook structure\n",
    "    nb = build_notebook(cells)\n",
    "\n",
    "    # Write as JSON\n",
    "    with open(output_file, 'w', encoding='utf-8') as out:\n",
    "        json.dump(nb, out, indent=2, ensure_ascii=False)\n",
    "    print(f\"Conversion completed! {input_file} was converted into {output_file}.\")\n",
    "\n",
    "def multiconvert_txt_to_ipynb(folder_path='', output_folder=''):\n",
    "    if not folder_path:\n",
    "        folder_path = '.'\n",
    "    if not output_folder:\n",
    "        output_folder = '.'\n",
    "    \n",
    "    # Ensure the output folder exists\n",
    "    if not os.path.exists(output_folder):\n",
    "        os.makedirs(output_folder)\n",
    "\n",
    "    # Scan for txt files\n",
    "    txt_files = glob.glob(os.path.join(folder_path, '*.txt'))\n",
    "\n",
    "    for txt_path in txt_files:\n",
    "        # Define the output path for the converted file\n",
    "        notebook_name = os.path.basename(txt_path).replace('.txt', '.ipynb')\n",
    "        output_path = os.path.join(output_folder, notebook_name)\n",
    "\n",
    "        # Convert the text file to notebook\n",
    "        convert_txt_to_ipynb(txt_path, output_path)\n",
    "        print(f\"Converted {txt_path} to {output_path}\")"
   ]
  },
  {
   "cell_type": "markdown",
   "id": "09fa3321-d8a8-4a77-b8a6-1baaf98315bd",
   "metadata": {},
   "source": [
    "## Example: conversion `.ipynb` $\\rightarrow$ `.txt`"
   ]
  },
  {
   "cell_type": "code",
   "execution_count": 7,
   "id": "32aaa3e0-04ed-45d6-9633-5d00b98aaa20",
   "metadata": {
    "editable": true,
    "execution": {
     "iopub.execute_input": "2025-03-03T16:33:23.290117Z",
     "iopub.status.busy": "2025-03-03T16:33:23.289944Z",
     "iopub.status.idle": "2025-03-03T16:33:23.309341Z",
     "shell.execute_reply": "2025-03-03T16:33:23.309013Z",
     "shell.execute_reply.started": "2025-03-03T16:33:23.290108Z"
    },
    "slideshow": {
     "slide_type": ""
    },
    "tags": []
   },
   "outputs": [
    {
     "name": "stdout",
     "output_type": "stream",
     "text": [
      "Converted notebooks/SageDatascience.ipynb to txts/SageDatascience.txt\n",
      "Converted notebooks/Sage_Tutorial.ipynb to txts/Sage_Tutorial.txt\n"
     ]
    }
   ],
   "source": [
    "folder_path = 'notebooks'\n",
    "output_folder = 'txts'\n",
    "multiconvert_ipynb_to_txt(folder_path, output_folder)"
   ]
  },
  {
   "cell_type": "markdown",
   "id": "0818b87e-a41b-47be-8357-b43af08ee74b",
   "metadata": {},
   "source": [
    "## Conversion `.txt` $\\rightarrow$ `.ipynb`"
   ]
  },
  {
   "cell_type": "code",
   "execution_count": 8,
   "id": "b889aec8-8467-41d4-90b3-1f329c08aa20",
   "metadata": {
    "editable": true,
    "execution": {
     "iopub.execute_input": "2025-03-03T16:33:24.863608Z",
     "iopub.status.busy": "2025-03-03T16:33:24.863212Z",
     "iopub.status.idle": "2025-03-03T16:33:24.874075Z",
     "shell.execute_reply": "2025-03-03T16:33:24.873665Z",
     "shell.execute_reply.started": "2025-03-03T16:33:24.863595Z"
    },
    "slideshow": {
     "slide_type": ""
    },
    "tags": []
   },
   "outputs": [
    {
     "name": "stdout",
     "output_type": "stream",
     "text": [
      "Conversion completed! txts/SageDatascience.txt was converted into notebooks/SageDatascience.ipynb.\n",
      "Converted txts/SageDatascience.txt to notebooks/SageDatascience.ipynb\n",
      "Conversion completed! txts/Sage_Tutorial.txt was converted into notebooks/Sage_Tutorial.ipynb.\n",
      "Converted txts/Sage_Tutorial.txt to notebooks/Sage_Tutorial.ipynb\n"
     ]
    }
   ],
   "source": [
    "# Example usage\n",
    "folder_path = 'txts'\n",
    "output_folder = 'notebooks'\n",
    "multiconvert_txt_to_ipynb(folder_path, output_folder)"
   ]
  },
  {
   "cell_type": "code",
   "execution_count": null,
   "id": "665e06b5-050d-4ada-a9a3-d56e76da9cf2",
   "metadata": {},
   "outputs": [],
   "source": []
  }
 ],
 "metadata": {
  "kernelspec": {
   "display_name": "Python 3 (ipykernel)",
   "language": "python",
   "name": "python3"
  },
  "language_info": {
   "codemirror_mode": {
    "name": "ipython",
    "version": 3
   },
   "file_extension": ".py",
   "mimetype": "text/x-python",
   "name": "python",
   "nbconvert_exporter": "python",
   "pygments_lexer": "ipython3",
   "version": "3.12.7"
  }
 },
 "nbformat": 4,
 "nbformat_minor": 5
}
